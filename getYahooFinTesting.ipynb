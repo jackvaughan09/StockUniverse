{
 "cells": [
  {
   "cell_type": "code",
   "execution_count": 5,
   "metadata": {},
   "outputs": [],
   "source": [
    "import yfinance as yf\n",
    "import pandas as pd\n",
    "from requests import Session\n",
    "from requests_cache import CacheMixin, SQLiteCache\n",
    "from requests_ratelimiter import LimiterMixin, MemoryQueueBucket\n",
    "from pyrate_limiter import Duration, RequestRate, Limiter\n",
    "import numpy as np"
   ]
  },
  {
   "cell_type": "code",
   "execution_count": 6,
   "metadata": {},
   "outputs": [],
   "source": [
    "class CachedLimiterSession(CacheMixin, LimiterMixin, Session):\n",
    "    pass"
   ]
  },
  {
   "cell_type": "code",
   "execution_count": 7,
   "metadata": {},
   "outputs": [],
   "source": [
    "session = CachedLimiterSession(\n",
    "    limiter=Limiter(\n",
    "        RequestRate(2, Duration.SECOND * 5)\n",
    "    ),  # max 2 requests per 5 seconds\n",
    "    bucket_class=MemoryQueueBucket,\n",
    "    backend=SQLiteCache(\"yfinance.cache\"),\n",
    ")\n",
    "session.headers[\"User-agent\"] = \"my-program/1.0\""
   ]
  },
  {
   "cell_type": "markdown",
   "metadata": {},
   "source": [
    "### Helper Functions\n"
   ]
  },
  {
   "cell_type": "code",
   "execution_count": 60,
   "metadata": {},
   "outputs": [],
   "source": [
    "def convert_to_thousands(value):\n",
    "    if isinstance(value, (int, float)):\n",
    "        return f\"{value/1000:.0f}\"\n",
    "    return value\n",
    "\n",
    "\n",
    "def calculate_ratio(numerator, denominator):\n",
    "    if (\n",
    "        isinstance(numerator, (int, float))\n",
    "        and isinstance(denominator, (int, float))\n",
    "        and denominator != 0\n",
    "    ):\n",
    "        return f\"{numerator / denominator:.2f}\"\n",
    "    return \"No result\"\n",
    "\n",
    "\n",
    "def convert_to_percent(value):\n",
    "    if isinstance(value, float):\n",
    "        return f\"{value * 100:.2f}%\"\n",
    "    return value\n",
    "\n",
    "\n",
    "def get_latest_value(df, metric):\n",
    "    if metric in df.index:\n",
    "        for col in df.columns:\n",
    "            value = df.at[metric, col]\n",
    "            if not pd.isna(value):\n",
    "                return value\n",
    "    return \"Not Found\""
   ]
  },
  {
   "cell_type": "markdown",
   "metadata": {},
   "source": [
    "## Metric Calculation Functions\n"
   ]
  },
  {
   "cell_type": "code",
   "execution_count": 73,
   "metadata": {},
   "outputs": [],
   "source": [
    "def calculate_nwc_change(balance_sheet):\n",
    "    # NWC (most broad interpretation) = Current Assets - Current Liabilities\n",
    "    # DeltaNWC = Prior Period NWC - Current Period NWC\n",
    "    cur_nwc = get_latest_value(balance_sheet, \"Working Capital\")\n",
    "    prior_balance = balance_sheet.iloc[:, 1:]\n",
    "    prior_nwc = get_latest_value(prior_balance, \"Working Capital\")\n",
    "    if prior_nwc - cur_nwc == 0:\n",
    "        print(f\"prior: {prior_nwc}, current: {cur_nwc}\")\n",
    "    return prior_nwc - cur_nwc\n",
    "\n",
    "\n",
    "def _calculate_non_cash_wc_for_period(balance_sheet):\n",
    "    ar = get_latest_value(balance_sheet, \"Accounts Receivable\")\n",
    "    inv = get_latest_value(balance_sheet, \"Inventory\")\n",
    "    ap = get_latest_value(balance_sheet, \"Accounts Payable\")\n",
    "    return ar + inv - ap\n",
    "\n",
    "\n",
    "def calculate_non_cash_wc(balance_sheet):\n",
    "    current = _calculate_non_cash_wc_for_period(balance_sheet)\n",
    "    prior_bs = balance_sheet.iloc[:, 1:]\n",
    "    prior = _calculate_non_cash_wc_for_period(prior_bs)\n",
    "    return prior - current\n",
    "\n",
    "\n",
    "def calculate_ufcf(cash_flow, income_statement, balance_sheet):\n",
    "    # Unlevered Free Cash Flow\n",
    "    # EBIT*(1-tax rate) + D&A – ∆NWC – CAPEX\n",
    "    nopat = get_latest_value(income_statement, \"EBIT\") * (\n",
    "        1 - get_latest_value(income_statement, \"Tax Rate For Calcs\")\n",
    "    )  # Net Operating Profit After Tax\n",
    "    dep_am = get_latest_value(cash_flow, \"Depreciation And Amortization\")\n",
    "    change_in_non_cash_wc = calculate_non_cash_wc(balance_sheet)\n",
    "    capex = get_latest_value(cash_flow, \"Capital Expenditure\")\n",
    "    # Calculate UFCF\n",
    "    ufcf = nopat + dep_am - change_in_non_cash_wc - capex\n",
    "    return ufcf\n",
    "\n",
    "\n",
    "def calculate_sfcf(cash_flow):\n",
    "    # Simple Free Cash Flow\n",
    "    operating_cash = get_latest_value(cash_flow, \"Operating Cash Flow\")\n",
    "    capex = get_latest_value(cash_flow, \"Capital Expenditure\")\n",
    "    return operating_cash - capex\n",
    "\n",
    "\n",
    "def calculate_net_net_wc_to_price(balance_sheet, market_cap):\n",
    "    # ((Cash + Short Term Marketable Investments + (Accounts Receivable * 75%) + (Inventory * 50%)  - Total Liabilities)\n",
    "    # / # of shares) / Price\n",
    "    # convert /shares/price -> /market_cap\n",
    "    ccesti = get_latest_value(\n",
    "        balance_sheet, \"Cash Cash Equivalents And Short Term Investments\"\n",
    "    )\n",
    "    disc_AR = 0.75 * get_latest_value(balance_sheet, \"Accounts Receivable\")\n",
    "    disc_INV = 0.5 * get_latest_value(balance_sheet, \"Inventory\")\n",
    "    tot_liab = get_latest_value(balance_sheet, \"Total Assets\") - get_latest_value(\n",
    "        balance_sheet, \"Stockholders Equity\"\n",
    "    )\n",
    "    return float(f\"{(ccesti + disc_AR + disc_INV - tot_liab) / market_cap:.2f}\")"
   ]
  },
  {
   "cell_type": "markdown",
   "metadata": {},
   "source": [
    "## Main Fetcher Function\n"
   ]
  },
  {
   "cell_type": "code",
   "execution_count": 74,
   "metadata": {},
   "outputs": [],
   "source": [
    "# NOTE: Need to adjust dictionary keys to match source sheet headers\n",
    "\n",
    "\n",
    "def fetch_financial_data(ticker, session):\n",
    "    stock = yf.Ticker(ticker, session)\n",
    "    info = stock.info\n",
    "    balance_sheet = stock.balance_sheet\n",
    "    income_statement = stock.income_stmt\n",
    "    cash_flow = stock.cashflow\n",
    "\n",
    "    financial_data = {\n",
    "        \"Ticker\": ticker,\n",
    "        \"Revenue (ttm)\": convert_to_thousands(info.get(\"totalRevenue\", \"No result\")),\n",
    "        \"Return on Assets (ttm)\": convert_to_percent(\n",
    "            info.get(\"returnOnAssets\", \"No result\")\n",
    "        ),\n",
    "        \"Return on Equity (ttm)\": convert_to_percent(\n",
    "            info.get(\"returnOnEquity\", \"No result\")\n",
    "        ),\n",
    "        \"EBITDA (s&p)\": convert_to_thousands(info.get(\"ebitda\", \"No result\")),\n",
    "        \"Enterprise Value\": convert_to_thousands(\n",
    "            info.get(\"enterpriseValue\", \"No result\")\n",
    "        ),\n",
    "        \"Dividend\": info.get(\"dividendRate\", \"No result\"),\n",
    "        \"CCESTI\": convert_to_thousands(\n",
    "            get_latest_value(\n",
    "                balance_sheet, \"Cash Cash Equivalents And Short Term Investments\"\n",
    "            )\n",
    "        ),\n",
    "        \"Total Debt\": convert_to_thousands(info.get(\"totalDebt\", \"No result\")),\n",
    "        \"Earnings Per Share\": info.get(\"trailingEps\", \"No result\"),\n",
    "        \"Book Value\": info.get(\n",
    "            \"bookValue\", \"No result\"\n",
    "        ),  # currently returns book value per share, not Assets - Liabilities (in other words, Equities)\n",
    "        \"Levered Free Cash Flow (ttm)\": convert_to_thousands(\n",
    "            info.get(\"freeCashflow\", \"No result\")\n",
    "        ),\n",
    "        \"Cash Flow from Operations (ttm)\": convert_to_thousands(\n",
    "            info.get(\"operatingCashflow\", \"No result\")\n",
    "        ),\n",
    "        \"Cash Flow from Investing (ttm)\": convert_to_thousands(\n",
    "            get_latest_value(cash_flow, \"Investing Cash Flow\")\n",
    "        ),\n",
    "        \"Cash Flow from Financing (ttm)\": convert_to_thousands(\n",
    "            get_latest_value(cash_flow, \"Financing Cash Flow\")\n",
    "        ),\n",
    "        \"Tangible Book Value\": convert_to_thousands(\n",
    "            get_latest_value(balance_sheet, \"Tangible Book Value\")\n",
    "        ),\n",
    "        \"Pretax Income\": convert_to_thousands(\n",
    "            get_latest_value(income_statement, \"Pretax Income\")\n",
    "        ),\n",
    "        \"Income Tax Expense\": convert_to_thousands(\n",
    "            get_latest_value(income_statement, \"Pretax Income\")\n",
    "            * get_latest_value(income_statement, \"Tax Rate For Calcs\")\n",
    "        ),\n",
    "        \"Interest Expense\": convert_to_thousands(\n",
    "            get_latest_value(income_statement, \"Interest Expense\")\n",
    "        ),\n",
    "        \"EBIT\": convert_to_thousands(get_latest_value(income_statement, \"EBIT\")),\n",
    "        \"Capital Expenditure\": convert_to_thousands(\n",
    "            get_latest_value(cash_flow, \"Capital Expenditure\")\n",
    "        ),\n",
    "        \"Current Assets\": convert_to_thousands(\n",
    "            get_latest_value(balance_sheet, \"Current Assets\")\n",
    "        ),\n",
    "        \"Cash\": convert_to_thousands(info.get(\"totalCash\")),\n",
    "        \"Short-Term Investments\": convert_to_thousands(\n",
    "            get_latest_value(balance_sheet, \"Other Short Term Investments\")\n",
    "        ),\n",
    "        \"Current Inventory\": convert_to_thousands(\n",
    "            get_latest_value(balance_sheet, \"Inventory\")\n",
    "        ),\n",
    "        \"Current Liabilities\": convert_to_thousands(\n",
    "            get_latest_value(balance_sheet, \"Current Liabilities\")\n",
    "        ),\n",
    "        \"Net Receivables\": convert_to_thousands(\n",
    "            get_latest_value(balance_sheet, \"Receivables\")\n",
    "        ),\n",
    "        \"Total Assets\": convert_to_thousands(\n",
    "            get_latest_value(balance_sheet, \"Total Assets\")\n",
    "        ),\n",
    "        \"Total Liabilities\": convert_to_thousands(\n",
    "            get_latest_value(balance_sheet, \"Total Assets\")\n",
    "            - get_latest_value(balance_sheet, \"Stockholders Equity\")\n",
    "        ),\n",
    "        \"Retained Earnings\": convert_to_thousands(\n",
    "            get_latest_value(balance_sheet, \"Retained Earnings\")\n",
    "        ),\n",
    "        \"∆NWC ttm\": convert_to_thousands(calculate_nwc_change(balance_sheet)),\n",
    "        \"Working Capital\": convert_to_thousands(\n",
    "            get_latest_value(balance_sheet, \"Working Capital\")\n",
    "        ),\n",
    "        \"Effective Tax Rate\": get_latest_value(income_statement, \"Tax Rate For Calcs\"),\n",
    "        \"Tax Shield\": convert_to_thousands(\n",
    "            get_latest_value(income_statement, \"Interest Expense\")\n",
    "            * get_latest_value(income_statement, \"Tax Rate For Calcs\")\n",
    "        ),\n",
    "        \"Free Cash Flow\": convert_to_thousands(info.get(\"freeCashflow\", \"No result\")),\n",
    "        \"Unlevered Free Cash Flow\": convert_to_thousands(\n",
    "            calculate_ufcf(cash_flow, income_statement, balance_sheet)\n",
    "        ),\n",
    "        \"Simple Free Cash Flow\": convert_to_thousands(calculate_sfcf(cash_flow)),\n",
    "        \"Net Cash Flow\": convert_to_thousands(\n",
    "            get_latest_value(cash_flow, \"Operating Cash Flow\")\n",
    "            + get_latest_value(cash_flow, \"Investing Cash Flow\")\n",
    "            + get_latest_value(cash_flow, \"Financing Cash Flow\")\n",
    "        ),\n",
    "        \"Net Cash\": convert_to_thousands(\n",
    "            info.get(\"totalCash\", 0) - info.get(\"totalDebt\", 0)\n",
    "        ),\n",
    "        \"Z1\": calculate_ratio(\n",
    "            get_latest_value(balance_sheet, \"Working Capital\"),\n",
    "            get_latest_value(balance_sheet, \"Total Assets\"),\n",
    "        ),  # WC / Total Assets\n",
    "        \"Z2\": calculate_ratio(\n",
    "            get_latest_value(balance_sheet, \"Retained Earnings\"),\n",
    "            get_latest_value(balance_sheet, \"Total Assets\"),\n",
    "        ),  # RE / Total Assets\n",
    "        \"Z3\": calculate_ratio(\n",
    "            get_latest_value(income_statement, \"EBIT\"),\n",
    "            get_latest_value(balance_sheet, \"Total Assets\"),\n",
    "        ),  # EBIT / Total Assets\n",
    "        \"Z4\": calculate_ratio(\n",
    "            info.get(\"marketCap\", 0),\n",
    "            get_latest_value(balance_sheet, \"Total Assets\")\n",
    "            - get_latest_value(balance_sheet, \"Stockholders Equity\"),\n",
    "        ),  # Market Cap / Total Liabilities\n",
    "        \"Z5\": calculate_ratio(\n",
    "            get_latest_value(income_statement, \"Total Revenue\"),\n",
    "            get_latest_value(balance_sheet, \"Total Assets\"),\n",
    "        ),  # Rev / Total Assets\n",
    "        \"Sales to Price Ratio\": calculate_ratio(\n",
    "            info.get(\"totalRevenue\"), info.get(\"marketCap\")\n",
    "        ),\n",
    "        \"EBITDA to Enterprise Value Ratio\": calculate_ratio(\n",
    "            1, info.get(\"enterpiseToEbitda\")  # just invert readily available metric\n",
    "        ),\n",
    "        \"Tangible Book Value to Price Ratio\": calculate_ratio(\n",
    "            get_latest_value(balance_sheet, \"Net Tangible Assets\"),\n",
    "            info.get(\"marketCap\"),\n",
    "        ),\n",
    "        \"Book Value to Price Ratio\": calculate_ratio(\n",
    "            1, info.get(\"priceToBook\")\n",
    "        ),  # just invert the priceToBook that is available easily\n",
    "        \"Earnings to Price Ratio\": calculate_ratio(\n",
    "            info.get(\"trailingEps\"), info.get(\"marketCap\")\n",
    "        ),\n",
    "        \"Cash Flow from Operations to Price Ratio\": calculate_ratio(\n",
    "            info.get(\"operatingCashflow\"), info.get(\"marketCap\")\n",
    "        ),\n",
    "        \"Simple Free Cash Flow to Price Ratio\": calculate_ratio(\n",
    "            calculate_sfcf(cash_flow), info.get(\"marketCap\")\n",
    "        ),\n",
    "        \"Net Cash Flow to Price Ratio\": calculate_ratio(\n",
    "            get_latest_value(cash_flow, \"Operating Cash Flow\")\n",
    "            + get_latest_value(cash_flow, \"Investing Cash Flow\")\n",
    "            + get_latest_value(cash_flow, \"Financing Cash Flow\"),\n",
    "            info.get(\"marketCap\"),\n",
    "        ),\n",
    "        \"Dividend to Price Ratio\": calculate_ratio(\n",
    "            info.get(\"dividendRate\"), info.get(\"marketCap\")\n",
    "        ),\n",
    "        \"Cash to Price Ratio\": calculate_ratio(\n",
    "            info.get(\"totalCash\"), info.get(\"marketCap\")\n",
    "        ),\n",
    "        \"Net Cash to Price Ratio\": calculate_ratio(\n",
    "            info.get(\"totalCash\", 0) - info.get(\"totalDebt\", 0), info.get(\"marketCap\")\n",
    "        ),\n",
    "        \"Net Net Working Capital to Price Ratio\": calculate_net_net_wc_to_price(\n",
    "            balance_sheet, info.get(\"marketCap\")\n",
    "        ),\n",
    "        \"Asset to Price Ratio\": calculate_ratio(\n",
    "            get_latest_value(balance_sheet, \"Total Assets\"), info.get(\"marketCap\")\n",
    "        ),\n",
    "        \"Retained Earnings to Market Capitalization\": calculate_ratio(\n",
    "            get_latest_value(balance_sheet, \"Retained Earnings\"), info.get(\"marketCap\")\n",
    "        ),\n",
    "        \"Revenue to Debt Ratio\": calculate_ratio(\n",
    "            info.get(\"totalRevenue\"), info.get(\"totalDebt\")\n",
    "        ),\n",
    "        \"Market Capitalization to Enterprise Value Ratio\": calculate_ratio(\n",
    "            info.get(\"marketCap\"), info.get(\"enterpriseValue\")\n",
    "        ),\n",
    "    }\n",
    "\n",
    "    return financial_data"
   ]
  },
  {
   "cell_type": "markdown",
   "metadata": {},
   "source": [
    "### Wrapper Function\n"
   ]
  },
  {
   "cell_type": "code",
   "execution_count": 75,
   "metadata": {},
   "outputs": [],
   "source": [
    "def get_ticker_info(ticker, session):\n",
    "    financial_data = fetch_financial_data(ticker, session)\n",
    "    df = pd.DataFrame([financial_data])\n",
    "    return df"
   ]
  },
  {
   "cell_type": "code",
   "execution_count": 76,
   "metadata": {},
   "outputs": [],
   "source": [
    "gme = get_ticker_info(\"GME\", session)"
   ]
  },
  {
   "cell_type": "code",
   "execution_count": 77,
   "metadata": {},
   "outputs": [
    {
     "data": {
      "text/html": [
       "<div>\n",
       "<style scoped>\n",
       "    .dataframe tbody tr th:only-of-type {\n",
       "        vertical-align: middle;\n",
       "    }\n",
       "\n",
       "    .dataframe tbody tr th {\n",
       "        vertical-align: top;\n",
       "    }\n",
       "\n",
       "    .dataframe thead th {\n",
       "        text-align: right;\n",
       "    }\n",
       "</style>\n",
       "<table border=\"1\" class=\"dataframe\">\n",
       "  <thead>\n",
       "    <tr style=\"text-align: right;\">\n",
       "      <th></th>\n",
       "      <th>Ticker</th>\n",
       "      <th>Revenue (ttm)</th>\n",
       "      <th>Return on Assets (ttm)</th>\n",
       "      <th>Return on Equity (ttm)</th>\n",
       "      <th>EBITDA (s&amp;p)</th>\n",
       "      <th>Enterprise Value</th>\n",
       "      <th>Dividend</th>\n",
       "      <th>CCESTI</th>\n",
       "      <th>Total Debt</th>\n",
       "      <th>Earnings Per Share</th>\n",
       "      <th>...</th>\n",
       "      <th>Simple Free Cash Flow to Price Ratio</th>\n",
       "      <th>Net Cash Flow to Price Ratio</th>\n",
       "      <th>Dividend to Price Ratio</th>\n",
       "      <th>Cash to Price Ratio</th>\n",
       "      <th>Net Cash to Price Ratio</th>\n",
       "      <th>Net Net Working Capital to Price Ratio</th>\n",
       "      <th>Asset to Price Ratio</th>\n",
       "      <th>Retained Earnings to Market Capitalization</th>\n",
       "      <th>Revenue to Debt Ratio</th>\n",
       "      <th>Market Capitalization to Enterprise Value Ratio</th>\n",
       "    </tr>\n",
       "  </thead>\n",
       "  <tbody>\n",
       "    <tr>\n",
       "      <th>0</th>\n",
       "      <td>GME</td>\n",
       "      <td>4917500</td>\n",
       "      <td>-0.78%</td>\n",
       "      <td>1.93%</td>\n",
       "      <td>23800</td>\n",
       "      <td>7101297</td>\n",
       "      <td>No result</td>\n",
       "      <td>1199300</td>\n",
       "      <td>588700</td>\n",
       "      <td>0.08</td>\n",
       "      <td>...</td>\n",
       "      <td>-0.02</td>\n",
       "      <td>-0.02</td>\n",
       "      <td>No result</td>\n",
       "      <td>0.10</td>\n",
       "      <td>0.05</td>\n",
       "      <td>0.02</td>\n",
       "      <td>0.25</td>\n",
       "      <td>-0.02</td>\n",
       "      <td>8.35</td>\n",
       "      <td>1.51</td>\n",
       "    </tr>\n",
       "  </tbody>\n",
       "</table>\n",
       "<p>1 rows × 60 columns</p>\n",
       "</div>"
      ],
      "text/plain": [
       "  Ticker Revenue (ttm) Return on Assets (ttm) Return on Equity (ttm)  \\\n",
       "0    GME       4917500                 -0.78%                  1.93%   \n",
       "\n",
       "  EBITDA (s&p) Enterprise Value   Dividend   CCESTI Total Debt  \\\n",
       "0        23800          7101297  No result  1199300     588700   \n",
       "\n",
       "   Earnings Per Share  ...  Simple Free Cash Flow to Price Ratio  \\\n",
       "0                0.08  ...                                 -0.02   \n",
       "\n",
       "  Net Cash Flow to Price Ratio Dividend to Price Ratio Cash to Price Ratio  \\\n",
       "0                        -0.02               No result                0.10   \n",
       "\n",
       "  Net Cash to Price Ratio Net Net Working Capital to Price Ratio  \\\n",
       "0                    0.05                                   0.02   \n",
       "\n",
       "  Asset to Price Ratio Retained Earnings to Market Capitalization  \\\n",
       "0                 0.25                                      -0.02   \n",
       "\n",
       "  Revenue to Debt Ratio Market Capitalization to Enterprise Value Ratio  \n",
       "0                  8.35                                            1.51  \n",
       "\n",
       "[1 rows x 60 columns]"
      ]
     },
     "execution_count": 77,
     "metadata": {},
     "output_type": "execute_result"
    }
   ],
   "source": [
    "gme.head()"
   ]
  },
  {
   "cell_type": "code",
   "execution_count": 66,
   "metadata": {},
   "outputs": [],
   "source": [
    "gme.to_csv(\"gme.csv\")"
   ]
  },
  {
   "cell_type": "markdown",
   "metadata": {},
   "source": [
    "## Getting it to sheets\n"
   ]
  },
  {
   "cell_type": "code",
   "execution_count": null,
   "metadata": {},
   "outputs": [],
   "source": [
    "# Load in current metrics sheet\n",
    "#"
   ]
  },
  {
   "cell_type": "code",
   "execution_count": null,
   "metadata": {},
   "outputs": [],
   "source": []
  },
  {
   "cell_type": "code",
   "execution_count": null,
   "metadata": {},
   "outputs": [],
   "source": []
  },
  {
   "cell_type": "code",
   "execution_count": null,
   "metadata": {},
   "outputs": [],
   "source": []
  },
  {
   "cell_type": "code",
   "execution_count": null,
   "metadata": {},
   "outputs": [],
   "source": []
  },
  {
   "cell_type": "code",
   "execution_count": null,
   "metadata": {},
   "outputs": [],
   "source": []
  },
  {
   "cell_type": "code",
   "execution_count": null,
   "metadata": {},
   "outputs": [],
   "source": []
  },
  {
   "cell_type": "code",
   "execution_count": null,
   "metadata": {},
   "outputs": [],
   "source": []
  },
  {
   "cell_type": "markdown",
   "metadata": {},
   "source": [
    "## SANDBOX\n"
   ]
  },
  {
   "cell_type": "code",
   "execution_count": 26,
   "metadata": {},
   "outputs": [
    {
     "data": {
      "text/plain": [
       "0    0.019928\n",
       "Name: Net Net Working Capital to Price Ratio, dtype: float64"
      ]
     },
     "execution_count": 26,
     "metadata": {},
     "output_type": "execute_result"
    }
   ],
   "source": [
    "gme[\"Net Net Working Capital to Price Ratio\"]"
   ]
  },
  {
   "cell_type": "code",
   "execution_count": 43,
   "metadata": {},
   "outputs": [],
   "source": [
    "GME = yf.Ticker(\"GME\", session=session)\n",
    "cash_flow = GME.cash_flow\n",
    "balance_statement = GME.balance_sheet\n",
    "inc_stmt = GME.income_stmt\n",
    "info = GME.info"
   ]
  },
  {
   "cell_type": "code",
   "execution_count": 56,
   "metadata": {},
   "outputs": [],
   "source": [
    "def calculate_nwc_change(balance_sheet):\n",
    "    # NWC (most broad interpretation) = Current Assets - Current Liabilities\n",
    "    # DeltaNWC = Prior Period NWC - Current Period NWC\n",
    "    cur_nwc = get_latest_value(balance_sheet, \"Working Capital\")\n",
    "    prior_balance = balance_sheet.iloc[:, 1:]\n",
    "    prior_nwc = get_latest_value(prior_balance, \"Working Capital\")\n",
    "    if prior_nwc - cur_nwc == 0:\n",
    "        print(f\"prior: {prior_nwc}, current: {cur_nwc}\")\n",
    "    return prior_nwc - cur_nwc"
   ]
  },
  {
   "cell_type": "code",
   "execution_count": 57,
   "metadata": {},
   "outputs": [
    {
     "data": {
      "text/plain": [
       "-55100000.0"
      ]
     },
     "execution_count": 57,
     "metadata": {},
     "output_type": "execute_result"
    }
   ],
   "source": [
    "calculate_nwc_change(balance_statement)"
   ]
  },
  {
   "cell_type": "code",
   "execution_count": 69,
   "metadata": {},
   "outputs": [
    {
     "data": {
      "text/plain": [
       "-29700000.0"
      ]
     },
     "execution_count": 69,
     "metadata": {},
     "output_type": "execute_result"
    }
   ],
   "source": [
    "get_latest_value(inc_stmt, \"EBIT\")"
   ]
  },
  {
   "cell_type": "code",
   "execution_count": 32,
   "metadata": {},
   "outputs": [
    {
     "data": {
      "text/plain": [
       "0.1401771027997391"
      ]
     },
     "execution_count": 32,
     "metadata": {},
     "output_type": "execute_result"
    }
   ],
   "source": [
    "GME.info.get(\"bookValue\") / (\n",
    "    GME.info.get(\"marketCap\") / GME.info.get(\"sharesOutstanding\")\n",
    ")"
   ]
  },
  {
   "cell_type": "code",
   "execution_count": 33,
   "metadata": {},
   "outputs": [
    {
     "data": {
      "text/plain": [
       "0.14017711659035426"
      ]
     },
     "execution_count": 33,
     "metadata": {},
     "output_type": "execute_result"
    }
   ],
   "source": [
    "1 / GME.info.get(\"priceToBook\")"
   ]
  },
  {
   "cell_type": "code",
   "execution_count": 35,
   "metadata": {},
   "outputs": [
    {
     "data": {
      "text/plain": [
       "7.470605498193525e-12"
      ]
     },
     "execution_count": 35,
     "metadata": {},
     "output_type": "execute_result"
    }
   ],
   "source": [
    "GME.info.get(\"trailingEps\") / GME.info.get(\"marketCap\")"
   ]
  },
  {
   "cell_type": "code",
   "execution_count": 71,
   "metadata": {},
   "outputs": [
    {
     "data": {
      "text/plain": [
       "23800000"
      ]
     },
     "execution_count": 71,
     "metadata": {},
     "output_type": "execute_result"
    }
   ],
   "source": [
    "GME.info.get(\"ebitda\")"
   ]
  },
  {
   "cell_type": "code",
   "execution_count": 72,
   "metadata": {},
   "outputs": [
    {
     "data": {
      "text/plain": [
       "1370400000.0"
      ]
     },
     "execution_count": 72,
     "metadata": {},
     "output_type": "execute_result"
    }
   ],
   "source": [
    "get_latest_value(balance_statement, \"Total Assets\") - get_latest_value(\n",
    "    balance_statement, \"Stockholders Equity\"\n",
    ")"
   ]
  },
  {
   "cell_type": "code",
   "execution_count": 147,
   "metadata": {},
   "outputs": [],
   "source": [
    "def get_latest_value(df, metric):\n",
    "    if metric in df[df.columns[0]]:\n",
    "        i = 0\n",
    "        for i in range(0, df.shape[1]):\n",
    "            if not np.isnan(df[df.columns[i]][metric]):\n",
    "                return df[df.columns[i]][metric]\n",
    "    return \"Not Found\""
   ]
  },
  {
   "cell_type": "code",
   "execution_count": 148,
   "metadata": {},
   "outputs": [
    {
     "data": {
      "text/plain": [
       "-33200000.0"
      ]
     },
     "execution_count": 148,
     "metadata": {},
     "output_type": "execute_result"
    }
   ],
   "source": [
    "get_latest_value(cash_flow, \"Investing Cash Flow\")"
   ]
  },
  {
   "cell_type": "code",
   "execution_count": 149,
   "metadata": {},
   "outputs": [
    {
     "data": {
      "text/plain": [
       "-11600000.0"
      ]
     },
     "execution_count": 149,
     "metadata": {},
     "output_type": "execute_result"
    }
   ],
   "source": [
    "get_latest_value(cash_flow, \"Financing Cash Flow\")"
   ]
  },
  {
   "cell_type": "code",
   "execution_count": 150,
   "metadata": {},
   "outputs": [
    {
     "data": {
      "text/plain": [
       "-3000000.0"
      ]
     },
     "execution_count": 150,
     "metadata": {},
     "output_type": "execute_result"
    }
   ],
   "source": [
    "get_latest_value(cash_flow, \"Net Other Financing Charges\")"
   ]
  },
  {
   "cell_type": "code",
   "execution_count": null,
   "metadata": {},
   "outputs": [],
   "source": [
    "ncf2p = calculate_ratio(\n",
    "    int(info.get(\"operatingCashflow\"))\n",
    "    + int(get_latest_value(cash_flow, \"Investing Cash Flow\"))\n",
    "    + int(get_latest_value(cash_flow, \"Financing Cash Flow\")),\n",
    "    int(info.get(\"marketCap\")),\n",
    ")\n",
    "ncf2p"
   ]
  },
  {
   "cell_type": "code",
   "execution_count": 112,
   "metadata": {},
   "outputs": [
    {
     "data": {
      "text/plain": [
       "-238600000"
      ]
     },
     "execution_count": 112,
     "metadata": {},
     "output_type": "execute_result"
    }
   ],
   "source": [
    "int(get_latest_value(cash_flow, \"Investing Cash Flow\"))"
   ]
  },
  {
   "cell_type": "code",
   "execution_count": 104,
   "metadata": {},
   "outputs": [
    {
     "data": {
      "text/plain": [
       "-210800000"
      ]
     },
     "execution_count": 104,
     "metadata": {},
     "output_type": "execute_result"
    }
   ],
   "source": [
    "info.get(\"operatingCashflow\")"
   ]
  },
  {
   "cell_type": "code",
   "execution_count": 99,
   "metadata": {},
   "outputs": [
    {
     "data": {
      "text/html": [
       "<div>\n",
       "<style scoped>\n",
       "    .dataframe tbody tr th:only-of-type {\n",
       "        vertical-align: middle;\n",
       "    }\n",
       "\n",
       "    .dataframe tbody tr th {\n",
       "        vertical-align: top;\n",
       "    }\n",
       "\n",
       "    .dataframe thead th {\n",
       "        text-align: right;\n",
       "    }\n",
       "</style>\n",
       "<table border=\"1\" class=\"dataframe\">\n",
       "  <thead>\n",
       "    <tr style=\"text-align: right;\">\n",
       "      <th></th>\n",
       "      <th>2024-01-31</th>\n",
       "      <th>2023-01-31</th>\n",
       "      <th>2022-01-31</th>\n",
       "      <th>2021-01-31</th>\n",
       "      <th>2020-01-31</th>\n",
       "    </tr>\n",
       "  </thead>\n",
       "  <tbody>\n",
       "    <tr>\n",
       "      <th>Free Cash Flow</th>\n",
       "      <td>-238600000.0</td>\n",
       "      <td>52300000.0</td>\n",
       "      <td>-496300000.0</td>\n",
       "      <td>63700000.0</td>\n",
       "      <td>NaN</td>\n",
       "    </tr>\n",
       "    <tr>\n",
       "      <th>Repurchase Of Capital Stock</th>\n",
       "      <td>NaN</td>\n",
       "      <td>NaN</td>\n",
       "      <td>0.0</td>\n",
       "      <td>0.0</td>\n",
       "      <td>-198700000.0</td>\n",
       "    </tr>\n",
       "    <tr>\n",
       "      <th>Repayment Of Debt</th>\n",
       "      <td>-10700000.0</td>\n",
       "      <td>-3900000.0</td>\n",
       "      <td>-332400000.0</td>\n",
       "      <td>-255300000.0</td>\n",
       "      <td>NaN</td>\n",
       "    </tr>\n",
       "    <tr>\n",
       "      <th>Issuance Of Debt</th>\n",
       "      <td>NaN</td>\n",
       "      <td>0.0</td>\n",
       "      <td>0.0</td>\n",
       "      <td>197100000.0</td>\n",
       "      <td>0.0</td>\n",
       "    </tr>\n",
       "    <tr>\n",
       "      <th>Issuance Of Capital Stock</th>\n",
       "      <td>0.0</td>\n",
       "      <td>0.0</td>\n",
       "      <td>1672800000.0</td>\n",
       "      <td>0.0</td>\n",
       "      <td>NaN</td>\n",
       "    </tr>\n",
       "    <tr>\n",
       "      <th>...</th>\n",
       "      <td>...</td>\n",
       "      <td>...</td>\n",
       "      <td>...</td>\n",
       "      <td>...</td>\n",
       "      <td>...</td>\n",
       "    </tr>\n",
       "    <tr>\n",
       "      <th>Depreciation</th>\n",
       "      <td>55300000.0</td>\n",
       "      <td>60300000.0</td>\n",
       "      <td>73600000.0</td>\n",
       "      <td>NaN</td>\n",
       "      <td>NaN</td>\n",
       "    </tr>\n",
       "    <tr>\n",
       "      <th>Operating Gains Losses</th>\n",
       "      <td>1500000.0</td>\n",
       "      <td>-4700000.0</td>\n",
       "      <td>23600000.0</td>\n",
       "      <td>-28800000.0</td>\n",
       "      <td>NaN</td>\n",
       "    </tr>\n",
       "    <tr>\n",
       "      <th>Gain Loss On Sale Of PPE</th>\n",
       "      <td>1500000.0</td>\n",
       "      <td>-4700000.0</td>\n",
       "      <td>5400000.0</td>\n",
       "      <td>-27300000.0</td>\n",
       "      <td>NaN</td>\n",
       "    </tr>\n",
       "    <tr>\n",
       "      <th>Gain Loss On Sale Of Business</th>\n",
       "      <td>NaN</td>\n",
       "      <td>NaN</td>\n",
       "      <td>0.0</td>\n",
       "      <td>0.0</td>\n",
       "      <td>9100000.0</td>\n",
       "    </tr>\n",
       "    <tr>\n",
       "      <th>Net Income From Continuing Operations</th>\n",
       "      <td>6700000.0</td>\n",
       "      <td>-313100000.0</td>\n",
       "      <td>-381300000.0</td>\n",
       "      <td>-215300000.0</td>\n",
       "      <td>NaN</td>\n",
       "    </tr>\n",
       "  </tbody>\n",
       "</table>\n",
       "<p>67 rows × 5 columns</p>\n",
       "</div>"
      ],
      "text/plain": [
       "                                        2024-01-31   2023-01-31    2022-01-31  \\\n",
       "Free Cash Flow                        -238600000.0   52300000.0  -496300000.0   \n",
       "Repurchase Of Capital Stock                    NaN          NaN           0.0   \n",
       "Repayment Of Debt                      -10700000.0   -3900000.0  -332400000.0   \n",
       "Issuance Of Debt                               NaN          0.0           0.0   \n",
       "Issuance Of Capital Stock                      0.0          0.0  1672800000.0   \n",
       "...                                            ...          ...           ...   \n",
       "Depreciation                            55300000.0   60300000.0    73600000.0   \n",
       "Operating Gains Losses                   1500000.0   -4700000.0    23600000.0   \n",
       "Gain Loss On Sale Of PPE                 1500000.0   -4700000.0     5400000.0   \n",
       "Gain Loss On Sale Of Business                  NaN          NaN           0.0   \n",
       "Net Income From Continuing Operations    6700000.0 -313100000.0  -381300000.0   \n",
       "\n",
       "                                        2021-01-31   2020-01-31  \n",
       "Free Cash Flow                          63700000.0          NaN  \n",
       "Repurchase Of Capital Stock                    0.0 -198700000.0  \n",
       "Repayment Of Debt                     -255300000.0          NaN  \n",
       "Issuance Of Debt                       197100000.0          0.0  \n",
       "Issuance Of Capital Stock                      0.0          NaN  \n",
       "...                                            ...          ...  \n",
       "Depreciation                                   NaN          NaN  \n",
       "Operating Gains Losses                 -28800000.0          NaN  \n",
       "Gain Loss On Sale Of PPE               -27300000.0          NaN  \n",
       "Gain Loss On Sale Of Business                  0.0    9100000.0  \n",
       "Net Income From Continuing Operations -215300000.0          NaN  \n",
       "\n",
       "[67 rows x 5 columns]"
      ]
     },
     "execution_count": 99,
     "metadata": {},
     "output_type": "execute_result"
    }
   ],
   "source": [
    "cash_flow"
   ]
  },
  {
   "cell_type": "code",
   "execution_count": 98,
   "metadata": {},
   "outputs": [
    {
     "data": {
      "text/plain": [
       "'No result'"
      ]
     },
     "execution_count": 98,
     "metadata": {},
     "output_type": "execute_result"
    }
   ],
   "source": [
    "get_latest_value(cash_flow, \"Operating Cash Flow\")"
   ]
  },
  {
   "cell_type": "code",
   "execution_count": 27,
   "metadata": {},
   "outputs": [
    {
     "data": {
      "text/plain": [
       "4917499000"
      ]
     },
     "execution_count": 27,
     "metadata": {},
     "output_type": "execute_result"
    }
   ],
   "source": [
    "4_917_499 * 1000"
   ]
  },
  {
   "cell_type": "code",
   "execution_count": 31,
   "metadata": {},
   "outputs": [
    {
     "data": {
      "text/plain": [
       "4917499000"
      ]
     },
     "execution_count": 31,
     "metadata": {},
     "output_type": "execute_result"
    }
   ],
   "source": [
    "4_917_499_000"
   ]
  },
  {
   "cell_type": "code",
   "execution_count": 151,
   "metadata": {},
   "outputs": [],
   "source": [
    "aapl = yf.Ticker(\"AAPL\")"
   ]
  },
  {
   "cell_type": "code",
   "execution_count": 152,
   "metadata": {},
   "outputs": [
    {
     "data": {
      "text/html": [
       "<div>\n",
       "<style scoped>\n",
       "    .dataframe tbody tr th:only-of-type {\n",
       "        vertical-align: middle;\n",
       "    }\n",
       "\n",
       "    .dataframe tbody tr th {\n",
       "        vertical-align: top;\n",
       "    }\n",
       "\n",
       "    .dataframe thead th {\n",
       "        text-align: right;\n",
       "    }\n",
       "</style>\n",
       "<table border=\"1\" class=\"dataframe\">\n",
       "  <thead>\n",
       "    <tr style=\"text-align: right;\">\n",
       "      <th></th>\n",
       "      <th>2023-09-30</th>\n",
       "      <th>2022-09-30</th>\n",
       "      <th>2021-09-30</th>\n",
       "      <th>2020-09-30</th>\n",
       "    </tr>\n",
       "  </thead>\n",
       "  <tbody>\n",
       "    <tr>\n",
       "      <th>Tax Effect Of Unusual Items</th>\n",
       "      <td>0.0</td>\n",
       "      <td>0.0</td>\n",
       "      <td>0.0</td>\n",
       "      <td>0.0</td>\n",
       "    </tr>\n",
       "    <tr>\n",
       "      <th>Tax Rate For Calcs</th>\n",
       "      <td>0.147</td>\n",
       "      <td>0.162</td>\n",
       "      <td>0.133</td>\n",
       "      <td>0.144</td>\n",
       "    </tr>\n",
       "    <tr>\n",
       "      <th>Normalized EBITDA</th>\n",
       "      <td>129188000000.0</td>\n",
       "      <td>133138000000.0</td>\n",
       "      <td>123136000000.0</td>\n",
       "      <td>81020000000.0</td>\n",
       "    </tr>\n",
       "    <tr>\n",
       "      <th>Net Income From Continuing Operation Net Minority Interest</th>\n",
       "      <td>96995000000.0</td>\n",
       "      <td>99803000000.0</td>\n",
       "      <td>94680000000.0</td>\n",
       "      <td>57411000000.0</td>\n",
       "    </tr>\n",
       "    <tr>\n",
       "      <th>Reconciled Depreciation</th>\n",
       "      <td>11519000000.0</td>\n",
       "      <td>11104000000.0</td>\n",
       "      <td>11284000000.0</td>\n",
       "      <td>11056000000.0</td>\n",
       "    </tr>\n",
       "    <tr>\n",
       "      <th>Reconciled Cost Of Revenue</th>\n",
       "      <td>214137000000.0</td>\n",
       "      <td>223546000000.0</td>\n",
       "      <td>212981000000.0</td>\n",
       "      <td>169559000000.0</td>\n",
       "    </tr>\n",
       "    <tr>\n",
       "      <th>EBITDA</th>\n",
       "      <td>129188000000.0</td>\n",
       "      <td>133138000000.0</td>\n",
       "      <td>123136000000.0</td>\n",
       "      <td>81020000000.0</td>\n",
       "    </tr>\n",
       "    <tr>\n",
       "      <th>EBIT</th>\n",
       "      <td>117669000000.0</td>\n",
       "      <td>122034000000.0</td>\n",
       "      <td>111852000000.0</td>\n",
       "      <td>69964000000.0</td>\n",
       "    </tr>\n",
       "    <tr>\n",
       "      <th>Net Interest Income</th>\n",
       "      <td>-183000000.0</td>\n",
       "      <td>-106000000.0</td>\n",
       "      <td>198000000.0</td>\n",
       "      <td>890000000.0</td>\n",
       "    </tr>\n",
       "    <tr>\n",
       "      <th>Interest Expense</th>\n",
       "      <td>3933000000.0</td>\n",
       "      <td>2931000000.0</td>\n",
       "      <td>2645000000.0</td>\n",
       "      <td>2873000000.0</td>\n",
       "    </tr>\n",
       "    <tr>\n",
       "      <th>Interest Income</th>\n",
       "      <td>3750000000.0</td>\n",
       "      <td>2825000000.0</td>\n",
       "      <td>2843000000.0</td>\n",
       "      <td>3763000000.0</td>\n",
       "    </tr>\n",
       "    <tr>\n",
       "      <th>Normalized Income</th>\n",
       "      <td>96995000000.0</td>\n",
       "      <td>99803000000.0</td>\n",
       "      <td>94680000000.0</td>\n",
       "      <td>57411000000.0</td>\n",
       "    </tr>\n",
       "    <tr>\n",
       "      <th>Net Income From Continuing And Discontinued Operation</th>\n",
       "      <td>96995000000.0</td>\n",
       "      <td>99803000000.0</td>\n",
       "      <td>94680000000.0</td>\n",
       "      <td>57411000000.0</td>\n",
       "    </tr>\n",
       "    <tr>\n",
       "      <th>Total Expenses</th>\n",
       "      <td>268984000000.0</td>\n",
       "      <td>274891000000.0</td>\n",
       "      <td>256868000000.0</td>\n",
       "      <td>208227000000.0</td>\n",
       "    </tr>\n",
       "    <tr>\n",
       "      <th>Total Operating Income As Reported</th>\n",
       "      <td>114301000000.0</td>\n",
       "      <td>119437000000.0</td>\n",
       "      <td>108949000000.0</td>\n",
       "      <td>66288000000.0</td>\n",
       "    </tr>\n",
       "    <tr>\n",
       "      <th>Diluted Average Shares</th>\n",
       "      <td>15812547000.0</td>\n",
       "      <td>16325819000.0</td>\n",
       "      <td>16864919000.0</td>\n",
       "      <td>17528214000.0</td>\n",
       "    </tr>\n",
       "    <tr>\n",
       "      <th>Basic Average Shares</th>\n",
       "      <td>15744231000.0</td>\n",
       "      <td>16215963000.0</td>\n",
       "      <td>16701272000.0</td>\n",
       "      <td>17352119000.0</td>\n",
       "    </tr>\n",
       "    <tr>\n",
       "      <th>Diluted EPS</th>\n",
       "      <td>6.13</td>\n",
       "      <td>6.11</td>\n",
       "      <td>5.61</td>\n",
       "      <td>3.28</td>\n",
       "    </tr>\n",
       "    <tr>\n",
       "      <th>Basic EPS</th>\n",
       "      <td>6.16</td>\n",
       "      <td>6.15</td>\n",
       "      <td>5.67</td>\n",
       "      <td>3.31</td>\n",
       "    </tr>\n",
       "    <tr>\n",
       "      <th>Diluted NI Availto Com Stockholders</th>\n",
       "      <td>96995000000.0</td>\n",
       "      <td>99803000000.0</td>\n",
       "      <td>94680000000.0</td>\n",
       "      <td>57411000000.0</td>\n",
       "    </tr>\n",
       "    <tr>\n",
       "      <th>Net Income Common Stockholders</th>\n",
       "      <td>96995000000.0</td>\n",
       "      <td>99803000000.0</td>\n",
       "      <td>94680000000.0</td>\n",
       "      <td>57411000000.0</td>\n",
       "    </tr>\n",
       "    <tr>\n",
       "      <th>Net Income</th>\n",
       "      <td>96995000000.0</td>\n",
       "      <td>99803000000.0</td>\n",
       "      <td>94680000000.0</td>\n",
       "      <td>57411000000.0</td>\n",
       "    </tr>\n",
       "    <tr>\n",
       "      <th>Net Income Including Noncontrolling Interests</th>\n",
       "      <td>96995000000.0</td>\n",
       "      <td>99803000000.0</td>\n",
       "      <td>94680000000.0</td>\n",
       "      <td>57411000000.0</td>\n",
       "    </tr>\n",
       "    <tr>\n",
       "      <th>Net Income Continuous Operations</th>\n",
       "      <td>96995000000.0</td>\n",
       "      <td>99803000000.0</td>\n",
       "      <td>94680000000.0</td>\n",
       "      <td>57411000000.0</td>\n",
       "    </tr>\n",
       "    <tr>\n",
       "      <th>Tax Provision</th>\n",
       "      <td>16741000000.0</td>\n",
       "      <td>19300000000.0</td>\n",
       "      <td>14527000000.0</td>\n",
       "      <td>9680000000.0</td>\n",
       "    </tr>\n",
       "    <tr>\n",
       "      <th>Pretax Income</th>\n",
       "      <td>113736000000.0</td>\n",
       "      <td>119103000000.0</td>\n",
       "      <td>109207000000.0</td>\n",
       "      <td>67091000000.0</td>\n",
       "    </tr>\n",
       "    <tr>\n",
       "      <th>Other Income Expense</th>\n",
       "      <td>-382000000.0</td>\n",
       "      <td>-228000000.0</td>\n",
       "      <td>60000000.0</td>\n",
       "      <td>-87000000.0</td>\n",
       "    </tr>\n",
       "    <tr>\n",
       "      <th>Other Non Operating Income Expenses</th>\n",
       "      <td>-382000000.0</td>\n",
       "      <td>-228000000.0</td>\n",
       "      <td>60000000.0</td>\n",
       "      <td>-87000000.0</td>\n",
       "    </tr>\n",
       "    <tr>\n",
       "      <th>Net Non Operating Interest Income Expense</th>\n",
       "      <td>-183000000.0</td>\n",
       "      <td>-106000000.0</td>\n",
       "      <td>198000000.0</td>\n",
       "      <td>890000000.0</td>\n",
       "    </tr>\n",
       "    <tr>\n",
       "      <th>Interest Expense Non Operating</th>\n",
       "      <td>3933000000.0</td>\n",
       "      <td>2931000000.0</td>\n",
       "      <td>2645000000.0</td>\n",
       "      <td>2873000000.0</td>\n",
       "    </tr>\n",
       "    <tr>\n",
       "      <th>Interest Income Non Operating</th>\n",
       "      <td>3750000000.0</td>\n",
       "      <td>2825000000.0</td>\n",
       "      <td>2843000000.0</td>\n",
       "      <td>3763000000.0</td>\n",
       "    </tr>\n",
       "    <tr>\n",
       "      <th>Operating Income</th>\n",
       "      <td>114301000000.0</td>\n",
       "      <td>119437000000.0</td>\n",
       "      <td>108949000000.0</td>\n",
       "      <td>66288000000.0</td>\n",
       "    </tr>\n",
       "    <tr>\n",
       "      <th>Operating Expense</th>\n",
       "      <td>54847000000.0</td>\n",
       "      <td>51345000000.0</td>\n",
       "      <td>43887000000.0</td>\n",
       "      <td>38668000000.0</td>\n",
       "    </tr>\n",
       "    <tr>\n",
       "      <th>Research And Development</th>\n",
       "      <td>29915000000.0</td>\n",
       "      <td>26251000000.0</td>\n",
       "      <td>21914000000.0</td>\n",
       "      <td>18752000000.0</td>\n",
       "    </tr>\n",
       "    <tr>\n",
       "      <th>Selling General And Administration</th>\n",
       "      <td>24932000000.0</td>\n",
       "      <td>25094000000.0</td>\n",
       "      <td>21973000000.0</td>\n",
       "      <td>19916000000.0</td>\n",
       "    </tr>\n",
       "    <tr>\n",
       "      <th>Gross Profit</th>\n",
       "      <td>169148000000.0</td>\n",
       "      <td>170782000000.0</td>\n",
       "      <td>152836000000.0</td>\n",
       "      <td>104956000000.0</td>\n",
       "    </tr>\n",
       "    <tr>\n",
       "      <th>Cost Of Revenue</th>\n",
       "      <td>214137000000.0</td>\n",
       "      <td>223546000000.0</td>\n",
       "      <td>212981000000.0</td>\n",
       "      <td>169559000000.0</td>\n",
       "    </tr>\n",
       "    <tr>\n",
       "      <th>Total Revenue</th>\n",
       "      <td>383285000000.0</td>\n",
       "      <td>394328000000.0</td>\n",
       "      <td>365817000000.0</td>\n",
       "      <td>274515000000.0</td>\n",
       "    </tr>\n",
       "    <tr>\n",
       "      <th>Operating Revenue</th>\n",
       "      <td>383285000000.0</td>\n",
       "      <td>394328000000.0</td>\n",
       "      <td>365817000000.0</td>\n",
       "      <td>274515000000.0</td>\n",
       "    </tr>\n",
       "  </tbody>\n",
       "</table>\n",
       "</div>"
      ],
      "text/plain": [
       "                                                        2023-09-30  \\\n",
       "Tax Effect Of Unusual Items                                    0.0   \n",
       "Tax Rate For Calcs                                           0.147   \n",
       "Normalized EBITDA                                   129188000000.0   \n",
       "Net Income From Continuing Operation Net Minori...   96995000000.0   \n",
       "Reconciled Depreciation                              11519000000.0   \n",
       "Reconciled Cost Of Revenue                          214137000000.0   \n",
       "EBITDA                                              129188000000.0   \n",
       "EBIT                                                117669000000.0   \n",
       "Net Interest Income                                   -183000000.0   \n",
       "Interest Expense                                      3933000000.0   \n",
       "Interest Income                                       3750000000.0   \n",
       "Normalized Income                                    96995000000.0   \n",
       "Net Income From Continuing And Discontinued Ope...   96995000000.0   \n",
       "Total Expenses                                      268984000000.0   \n",
       "Total Operating Income As Reported                  114301000000.0   \n",
       "Diluted Average Shares                               15812547000.0   \n",
       "Basic Average Shares                                 15744231000.0   \n",
       "Diluted EPS                                                   6.13   \n",
       "Basic EPS                                                     6.16   \n",
       "Diluted NI Availto Com Stockholders                  96995000000.0   \n",
       "Net Income Common Stockholders                       96995000000.0   \n",
       "Net Income                                           96995000000.0   \n",
       "Net Income Including Noncontrolling Interests        96995000000.0   \n",
       "Net Income Continuous Operations                     96995000000.0   \n",
       "Tax Provision                                        16741000000.0   \n",
       "Pretax Income                                       113736000000.0   \n",
       "Other Income Expense                                  -382000000.0   \n",
       "Other Non Operating Income Expenses                   -382000000.0   \n",
       "Net Non Operating Interest Income Expense             -183000000.0   \n",
       "Interest Expense Non Operating                        3933000000.0   \n",
       "Interest Income Non Operating                         3750000000.0   \n",
       "Operating Income                                    114301000000.0   \n",
       "Operating Expense                                    54847000000.0   \n",
       "Research And Development                             29915000000.0   \n",
       "Selling General And Administration                   24932000000.0   \n",
       "Gross Profit                                        169148000000.0   \n",
       "Cost Of Revenue                                     214137000000.0   \n",
       "Total Revenue                                       383285000000.0   \n",
       "Operating Revenue                                   383285000000.0   \n",
       "\n",
       "                                                        2022-09-30  \\\n",
       "Tax Effect Of Unusual Items                                    0.0   \n",
       "Tax Rate For Calcs                                           0.162   \n",
       "Normalized EBITDA                                   133138000000.0   \n",
       "Net Income From Continuing Operation Net Minori...   99803000000.0   \n",
       "Reconciled Depreciation                              11104000000.0   \n",
       "Reconciled Cost Of Revenue                          223546000000.0   \n",
       "EBITDA                                              133138000000.0   \n",
       "EBIT                                                122034000000.0   \n",
       "Net Interest Income                                   -106000000.0   \n",
       "Interest Expense                                      2931000000.0   \n",
       "Interest Income                                       2825000000.0   \n",
       "Normalized Income                                    99803000000.0   \n",
       "Net Income From Continuing And Discontinued Ope...   99803000000.0   \n",
       "Total Expenses                                      274891000000.0   \n",
       "Total Operating Income As Reported                  119437000000.0   \n",
       "Diluted Average Shares                               16325819000.0   \n",
       "Basic Average Shares                                 16215963000.0   \n",
       "Diluted EPS                                                   6.11   \n",
       "Basic EPS                                                     6.15   \n",
       "Diluted NI Availto Com Stockholders                  99803000000.0   \n",
       "Net Income Common Stockholders                       99803000000.0   \n",
       "Net Income                                           99803000000.0   \n",
       "Net Income Including Noncontrolling Interests        99803000000.0   \n",
       "Net Income Continuous Operations                     99803000000.0   \n",
       "Tax Provision                                        19300000000.0   \n",
       "Pretax Income                                       119103000000.0   \n",
       "Other Income Expense                                  -228000000.0   \n",
       "Other Non Operating Income Expenses                   -228000000.0   \n",
       "Net Non Operating Interest Income Expense             -106000000.0   \n",
       "Interest Expense Non Operating                        2931000000.0   \n",
       "Interest Income Non Operating                         2825000000.0   \n",
       "Operating Income                                    119437000000.0   \n",
       "Operating Expense                                    51345000000.0   \n",
       "Research And Development                             26251000000.0   \n",
       "Selling General And Administration                   25094000000.0   \n",
       "Gross Profit                                        170782000000.0   \n",
       "Cost Of Revenue                                     223546000000.0   \n",
       "Total Revenue                                       394328000000.0   \n",
       "Operating Revenue                                   394328000000.0   \n",
       "\n",
       "                                                        2021-09-30  \\\n",
       "Tax Effect Of Unusual Items                                    0.0   \n",
       "Tax Rate For Calcs                                           0.133   \n",
       "Normalized EBITDA                                   123136000000.0   \n",
       "Net Income From Continuing Operation Net Minori...   94680000000.0   \n",
       "Reconciled Depreciation                              11284000000.0   \n",
       "Reconciled Cost Of Revenue                          212981000000.0   \n",
       "EBITDA                                              123136000000.0   \n",
       "EBIT                                                111852000000.0   \n",
       "Net Interest Income                                    198000000.0   \n",
       "Interest Expense                                      2645000000.0   \n",
       "Interest Income                                       2843000000.0   \n",
       "Normalized Income                                    94680000000.0   \n",
       "Net Income From Continuing And Discontinued Ope...   94680000000.0   \n",
       "Total Expenses                                      256868000000.0   \n",
       "Total Operating Income As Reported                  108949000000.0   \n",
       "Diluted Average Shares                               16864919000.0   \n",
       "Basic Average Shares                                 16701272000.0   \n",
       "Diluted EPS                                                   5.61   \n",
       "Basic EPS                                                     5.67   \n",
       "Diluted NI Availto Com Stockholders                  94680000000.0   \n",
       "Net Income Common Stockholders                       94680000000.0   \n",
       "Net Income                                           94680000000.0   \n",
       "Net Income Including Noncontrolling Interests        94680000000.0   \n",
       "Net Income Continuous Operations                     94680000000.0   \n",
       "Tax Provision                                        14527000000.0   \n",
       "Pretax Income                                       109207000000.0   \n",
       "Other Income Expense                                    60000000.0   \n",
       "Other Non Operating Income Expenses                     60000000.0   \n",
       "Net Non Operating Interest Income Expense              198000000.0   \n",
       "Interest Expense Non Operating                        2645000000.0   \n",
       "Interest Income Non Operating                         2843000000.0   \n",
       "Operating Income                                    108949000000.0   \n",
       "Operating Expense                                    43887000000.0   \n",
       "Research And Development                             21914000000.0   \n",
       "Selling General And Administration                   21973000000.0   \n",
       "Gross Profit                                        152836000000.0   \n",
       "Cost Of Revenue                                     212981000000.0   \n",
       "Total Revenue                                       365817000000.0   \n",
       "Operating Revenue                                   365817000000.0   \n",
       "\n",
       "                                                        2020-09-30  \n",
       "Tax Effect Of Unusual Items                                    0.0  \n",
       "Tax Rate For Calcs                                           0.144  \n",
       "Normalized EBITDA                                    81020000000.0  \n",
       "Net Income From Continuing Operation Net Minori...   57411000000.0  \n",
       "Reconciled Depreciation                              11056000000.0  \n",
       "Reconciled Cost Of Revenue                          169559000000.0  \n",
       "EBITDA                                               81020000000.0  \n",
       "EBIT                                                 69964000000.0  \n",
       "Net Interest Income                                    890000000.0  \n",
       "Interest Expense                                      2873000000.0  \n",
       "Interest Income                                       3763000000.0  \n",
       "Normalized Income                                    57411000000.0  \n",
       "Net Income From Continuing And Discontinued Ope...   57411000000.0  \n",
       "Total Expenses                                      208227000000.0  \n",
       "Total Operating Income As Reported                   66288000000.0  \n",
       "Diluted Average Shares                               17528214000.0  \n",
       "Basic Average Shares                                 17352119000.0  \n",
       "Diluted EPS                                                   3.28  \n",
       "Basic EPS                                                     3.31  \n",
       "Diluted NI Availto Com Stockholders                  57411000000.0  \n",
       "Net Income Common Stockholders                       57411000000.0  \n",
       "Net Income                                           57411000000.0  \n",
       "Net Income Including Noncontrolling Interests        57411000000.0  \n",
       "Net Income Continuous Operations                     57411000000.0  \n",
       "Tax Provision                                         9680000000.0  \n",
       "Pretax Income                                        67091000000.0  \n",
       "Other Income Expense                                   -87000000.0  \n",
       "Other Non Operating Income Expenses                    -87000000.0  \n",
       "Net Non Operating Interest Income Expense              890000000.0  \n",
       "Interest Expense Non Operating                        2873000000.0  \n",
       "Interest Income Non Operating                         3763000000.0  \n",
       "Operating Income                                     66288000000.0  \n",
       "Operating Expense                                    38668000000.0  \n",
       "Research And Development                             18752000000.0  \n",
       "Selling General And Administration                   19916000000.0  \n",
       "Gross Profit                                        104956000000.0  \n",
       "Cost Of Revenue                                     169559000000.0  \n",
       "Total Revenue                                       274515000000.0  \n",
       "Operating Revenue                                   274515000000.0  "
      ]
     },
     "execution_count": 152,
     "metadata": {},
     "output_type": "execute_result"
    }
   ],
   "source": [
    "aapl.income_stmt"
   ]
  },
  {
   "cell_type": "code",
   "execution_count": null,
   "metadata": {},
   "outputs": [],
   "source": []
  }
 ],
 "metadata": {
  "kernelspec": {
   "display_name": "venv",
   "language": "python",
   "name": "python3"
  },
  "language_info": {
   "codemirror_mode": {
    "name": "ipython",
    "version": 3
   },
   "file_extension": ".py",
   "mimetype": "text/x-python",
   "name": "python",
   "nbconvert_exporter": "python",
   "pygments_lexer": "ipython3",
   "version": "3.11.8"
  }
 },
 "nbformat": 4,
 "nbformat_minor": 2
}
